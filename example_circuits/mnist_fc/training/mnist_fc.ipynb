{
 "cells": [
  {
   "cell_type": "markdown",
   "id": "a452fe64",
   "metadata": {},
   "source": [
    "# Multi-Class Classification with Neural Networks\n",
    "\n",
    "In this notebook, we will look at the multi-class classification problem using a simple feedforward neural network. We will use the MNIST dataset consisting of handwritten digit images, and leverage PyTorch and Skorch for defining and training our classification model. We will save the weights of the trained model in a json file which will be used in our zk program. We will also save some samples and their corresponding label predictions from our trained model in order to verify the correctness of our zk program."
   ]
  },
  {
   "cell_type": "markdown",
   "id": "aaa2d5ed",
   "metadata": {},
   "source": [
    "## 1. Importing Necessary Libraries\n",
    "\n",
    "Here, we import the libraries and packages necessary for data generation, manipulation, visualization, neural network modeling and training, and saving the model weights and test samples."
   ]
  },
  {
   "cell_type": "code",
   "execution_count": 1,
   "id": "364c3303",
   "metadata": {},
   "outputs": [],
   "source": [
    "import numpy as np\n",
    "import math\n",
    "import matplotlib.pyplot as plt\n",
    "\n",
    "from sklearn.datasets import fetch_openml\n",
    "from sklearn.model_selection import train_test_split\n",
    "\n",
    "import torch\n",
    "from torch import nn\n",
    "import torch.nn.functional as F\n",
    "\n",
    "from skorch import NeuralNetClassifier\n",
    "\n",
    "import json"
   ]
  },
  {
   "cell_type": "markdown",
   "id": "068c3f01",
   "metadata": {},
   "source": [
    "## 2. Setting Random Seeds\n",
    "\n",
    "To ensure reproducibility and get consistent results, we set random seeds for all potential sources of randomness."
   ]
  },
  {
   "cell_type": "code",
   "execution_count": 2,
   "id": "364d51c2",
   "metadata": {},
   "outputs": [],
   "source": [
    "np.random.seed(42)\n",
    "\n",
    "torch.manual_seed(0)\n",
    "torch.cuda.manual_seed(0)"
   ]
  },
  {
   "cell_type": "markdown",
   "id": "cbfa9578",
   "metadata": {},
   "source": [
    "## 3. Data Downloading and Preparation\n",
    "\n",
    "For our classification task, we will download the MNIST dataset (https://en.wikipedia.org/wiki/MNIST_database). The dataset has 10 classes, corresponding to the digits 0-9. We prepare the data for our training pipeline."
   ]
  },
  {
   "cell_type": "code",
   "execution_count": 3,
   "id": "5053da8d",
   "metadata": {},
   "outputs": [],
   "source": [
    "model_name = \"mnist_fc\"\n",
    "\n",
    "# Download the dataset\n",
    "mnist = fetch_openml('mnist_784', as_frame=False, cache=False, parser='auto')\n",
    "\n",
    "# Prepare the data\n",
    "X, y = mnist.data.astype(np.float32), mnist.target.astype(np.int64)\n",
    "X /= 255.0\n",
    "\n",
    "X_train, X_test, y_train, y_test = train_test_split(X, y, test_size=0.2, random_state=42)"
   ]
  },
  {
   "cell_type": "markdown",
   "id": "35d616d9",
   "metadata": {},
   "source": [
    "## 4. Data Visualization\n",
    "\n",
    "We visualize a few samples from the dataset."
   ]
  },
  {
   "cell_type": "code",
   "execution_count": 4,
   "id": "1371b61d",
   "metadata": {},
   "outputs": [
    {
     "data": {
      "image/png": "[encoded data removed]",
      "text/plain": [
       "<Figure size 1200x200 with 8 Axes>"
      ]
     },
     "metadata": {},
     "output_type": "display_data"
    }
   ],
   "source": [
    "# Visualize the dataset\n",
    "def plot_example(X, y, n_samples):\n",
    "    n_cols = 8\n",
    "    n_rows = math.ceil(n_samples / n_cols)\n",
    "    plt.figure(figsize=(1.5*n_cols, 2*n_rows))\n",
    "\n",
    "    for i, (img, y) in enumerate(zip(X[:n_samples].reshape(n_samples, 28, 28), y[:n_samples])):\n",
    "        plt.subplot(n_rows, n_cols, i+1)\n",
    "        plt.imshow(img, cmap='gray')\n",
    "        plt.axis('off')\n",
    "        plt.title(y, fontsize=16)\n",
    "    plt.tight_layout()\n",
    "    plt.savefig(f\"{model_name}_visualization.png\", format='png', dpi=300, bbox_inches='tight')\n",
    "    plt.show()\n",
    "        \n",
    "plot_example(X_train, y_train, n_samples=8)"
   ]
  },
  {
   "cell_type": "markdown",
   "id": "194f3d76",
   "metadata": {},
   "source": [
    "## 5. Neural Network Architecture\n",
    "\n",
    "Our neural network is a fully-connected network which comprises an input layer, one hidden layer with relu activation function, and an output layer. Additionally, dropout is included for regularization. We also define the number of epochs and learning rate for our model."
   ]
  },
  {
   "cell_type": "code",
   "execution_count": 5,
   "id": "9954f9d5",
   "metadata": {},
   "outputs": [],
   "source": [
    "input_dim = 784\n",
    "hidden_dims = [20]\n",
    "output_dim = 10\n",
    "\n",
    "class ClassifierModule(nn.Module):\n",
    "    def __init__(\n",
    "            self,\n",
    "            input_dim=input_dim,\n",
    "            hidden_dims=hidden_dims,\n",
    "            output_dim=output_dim,\n",
    "            nonlin=F.relu,\n",
    "            dropout=0.5,\n",
    "    ):\n",
    "        super(ClassifierModule, self).__init__()\n",
    "        self.nonlin = nonlin\n",
    "        self.dropout = nn.Dropout(dropout)\n",
    "        \n",
    "        dims = [input_dim] + hidden_dims + [output_dim]\n",
    "        self.layers = nn.ModuleList()\n",
    "        for i in range(len(dims) - 1):\n",
    "            self.layers.append(nn.Linear(dims[i], dims[i+1]))\n",
    "\n",
    "    def forward(self, X, **kwargs):\n",
    "        for i, layer in enumerate(self.layers):\n",
    "            X = layer(X)\n",
    "            if i != len(self.layers) - 1:  # If not the last layer\n",
    "                X = self.nonlin(X)\n",
    "                X = self.dropout(X)\n",
    "            else:  # If last layer\n",
    "                X = F.softmax(X, dim=-1)\n",
    "        return X\n",
    "    \n",
    "net = NeuralNetClassifier(\n",
    "    ClassifierModule,\n",
    "    max_epochs=50,\n",
    "    lr=0.1)"
   ]
  },
  {
   "cell_type": "markdown",
   "id": "e0e2ac35",
   "metadata": {},
   "source": [
    "## 6. Model Training\n",
    "\n",
    "We now proceed to train our neural network model using the training data. Training involves feeding our network the training data multiple times (epochs) and adjusting the model weights to minimize the classification error."
   ]
  },
  {
   "cell_type": "code",
   "execution_count": 6,
   "id": "c5b15716",
   "metadata": {},
   "outputs": [
    {
     "name": "stdout",
     "output_type": "stream",
     "text": [
      "  epoch    train_loss    valid_acc    valid_loss     dur\n",
      "-------  ------------  -----------  ------------  ------\n",
      "      1        \u001b[36m1.2531\u001b[0m       \u001b[32m0.8740\u001b[0m        \u001b[35m0.5553\u001b[0m  0.4632\n",
      "      2        \u001b[36m0.8599\u001b[0m       \u001b[32m0.8947\u001b[0m        \u001b[35m0.4341\u001b[0m  0.3017\n",
      "      3        \u001b[36m0.7870\u001b[0m       \u001b[32m0.8986\u001b[0m        \u001b[35m0.3888\u001b[0m  0.3173\n",
      "      4        \u001b[36m0.7477\u001b[0m       \u001b[32m0.9024\u001b[0m        \u001b[35m0.3649\u001b[0m  0.3021\n",
      "      5        \u001b[36m0.7132\u001b[0m       \u001b[32m0.9084\u001b[0m        \u001b[35m0.3414\u001b[0m  0.2551\n",
      "      6        \u001b[36m0.6915\u001b[0m       \u001b[32m0.9107\u001b[0m        \u001b[35m0.3211\u001b[0m  0.3314\n",
      "      7        \u001b[36m0.6801\u001b[0m       \u001b[32m0.9113\u001b[0m        0.3213  0.2501\n",
      "      8        \u001b[36m0.6715\u001b[0m       \u001b[32m0.9136\u001b[0m        \u001b[35m0.3074\u001b[0m  0.3001\n",
      "      9        \u001b[36m0.6550\u001b[0m       \u001b[32m0.9139\u001b[0m        \u001b[35m0.3046\u001b[0m  0.2796\n",
      "     10        \u001b[36m0.6520\u001b[0m       0.9127        \u001b[35m0.3036\u001b[0m  0.2753\n",
      "     11        \u001b[36m0.6455\u001b[0m       \u001b[32m0.9173\u001b[0m        \u001b[35m0.2940\u001b[0m  0.2527\n",
      "     12        \u001b[36m0.6411\u001b[0m       0.9151        \u001b[35m0.2875\u001b[0m  0.2472\n",
      "     13        \u001b[36m0.6388\u001b[0m       \u001b[32m0.9174\u001b[0m        0.2916  0.2484\n",
      "     14        \u001b[36m0.6333\u001b[0m       \u001b[32m0.9195\u001b[0m        \u001b[35m0.2827\u001b[0m  0.2469\n",
      "     15        0.6403       0.9182        \u001b[35m0.2769\u001b[0m  0.2732\n",
      "     16        \u001b[36m0.6230\u001b[0m       \u001b[32m0.9203\u001b[0m        \u001b[35m0.2740\u001b[0m  0.2459\n",
      "     17        0.6302       \u001b[32m0.9216\u001b[0m        \u001b[35m0.2719\u001b[0m  0.2604\n",
      "     18        0.6275       0.9213        0.2741  0.2533\n",
      "     19        0.6276       0.9209        \u001b[35m0.2700\u001b[0m  0.2766\n",
      "     20        \u001b[36m0.6176\u001b[0m       \u001b[32m0.9222\u001b[0m        \u001b[35m0.2640\u001b[0m  0.2711\n",
      "     21        \u001b[36m0.6135\u001b[0m       \u001b[32m0.9224\u001b[0m        0.2674  0.2621\n",
      "     22        0.6179       \u001b[32m0.9232\u001b[0m        0.2669  0.2483\n",
      "     23        \u001b[36m0.6100\u001b[0m       0.9213        0.2667  0.2692\n",
      "     24        0.6102       0.9207        0.2684  0.2629\n",
      "     25        \u001b[36m0.6092\u001b[0m       0.9232        \u001b[35m0.2634\u001b[0m  0.2514\n",
      "     26        0.6112       0.9229        \u001b[35m0.2631\u001b[0m  0.2499\n",
      "     27        \u001b[36m0.6052\u001b[0m       0.9206        \u001b[35m0.2616\u001b[0m  0.2489\n",
      "     28        \u001b[36m0.6036\u001b[0m       0.9214        0.2644  0.2476\n",
      "     29        0.6086       0.9232        0.2638  0.2545\n",
      "     30        0.6060       0.9226        \u001b[35m0.2568\u001b[0m  0.2443\n",
      "     31        \u001b[36m0.6023\u001b[0m       \u001b[32m0.9238\u001b[0m        0.2591  0.2471\n",
      "     32        \u001b[36m0.5966\u001b[0m       0.9219        0.2610  0.2487\n",
      "     33        0.6052       0.9229        0.2594  0.2886\n",
      "     34        0.5992       0.9228        \u001b[35m0.2562\u001b[0m  0.4622\n",
      "     35        0.6053       \u001b[32m0.9249\u001b[0m        \u001b[35m0.2539\u001b[0m  0.3622\n",
      "     36        \u001b[36m0.5964\u001b[0m       0.9243        0.2545  0.2957\n",
      "     37        0.6050       0.9232        0.2554  0.2566\n",
      "     38        \u001b[36m0.5950\u001b[0m       0.9244        \u001b[35m0.2526\u001b[0m  0.2566\n",
      "     39        0.5952       0.9246        0.2562  0.2519\n",
      "     40        \u001b[36m0.5906\u001b[0m       \u001b[32m0.9250\u001b[0m        0.2540  0.2674\n",
      "     41        \u001b[36m0.5890\u001b[0m       \u001b[32m0.9253\u001b[0m        \u001b[35m0.2513\u001b[0m  0.2721\n",
      "     42        0.5920       \u001b[32m0.9254\u001b[0m        \u001b[35m0.2490\u001b[0m  0.2531\n",
      "     43        \u001b[36m0.5851\u001b[0m       0.9254        0.2502  0.2641\n",
      "     44        0.5880       \u001b[32m0.9268\u001b[0m        0.2502  0.2452\n",
      "     45        \u001b[36m0.5823\u001b[0m       0.9262        0.2524  0.2555\n",
      "     46        0.5878       0.9268        \u001b[35m0.2481\u001b[0m  0.2536\n",
      "     47        0.5860       0.9267        0.2533  0.2659\n",
      "     48        0.5865       \u001b[32m0.9274\u001b[0m        0.2532  0.2450\n",
      "     49        \u001b[36m0.5804\u001b[0m       0.9255        0.2533  0.2489\n",
      "     50        0.5870       \u001b[32m0.9275\u001b[0m        0.2497  0.2567\n"
     ]
    },
    {
     "data": {
      "text/plain": [
       "<class 'skorch.classifier.NeuralNetClassifier'>[initialized](\n",
       "  module_=ClassifierModule(\n",
       "    (dropout): Dropout(p=0.5, inplace=False)\n",
       "    (layers): ModuleList(\n",
       "      (0): Linear(in_features=784, out_features=20, bias=True)\n",
       "      (1): Linear(in_features=20, out_features=10, bias=True)\n",
       "    )\n",
       "  ),\n",
       ")"
      ]
     },
     "execution_count": 6,
     "metadata": {},
     "output_type": "execute_result"
    }
   ],
   "source": [
    "net.fit(X_train, y_train)"
   ]
  },
  {
   "cell_type": "markdown",
   "id": "1fe3f7c7",
   "metadata": {},
   "source": [
    "## 7. Model Testing\n",
    "\n",
    "We then evaluate our model's performance on unseen data (test data). This gives us an indication of whether our model has truly learned the underlying patterns in the data."
   ]
  },
  {
   "cell_type": "code",
   "execution_count": 7,
   "id": "1cc6df37",
   "metadata": {},
   "outputs": [
    {
     "name": "stdout",
     "output_type": "stream",
     "text": [
      "Accuracy: 92.83%\n"
     ]
    }
   ],
   "source": [
    "y_pred = net.predict(X_test)\n",
    "\n",
    "accuracy = (sum(y_test == y_pred) / len(y_test)) * 100\n",
    "\n",
    "print(f\"Accuracy: {accuracy:.2f}%\")"
   ]
  },
  {
   "cell_type": "markdown",
   "id": "0e4558da",
   "metadata": {},
   "source": [
    "## 8. Save Model Parameters\n",
    "\n",
    "A zk program usually does not support `floats`. Therefore, we define a base_scaling_factor, which is used to scale the inputs and the weights and convert them to integers. Since bias is added to `(input * weight)`, it has a scaling factor at the first layer which is twice of the base_scaling_factor. The scaling factor for biases in subsequent layers is adjusted accordingly.\n",
    "\n",
    "We will save the trained model parameters (weights and biases) in a JSON file, making them ready for integration into a zk program."
   ]
  },
  {
   "cell_type": "code",
   "execution_count": 8,
   "id": "91131e84",
   "metadata": {},
   "outputs": [
    {
     "name": "stdout",
     "output_type": "stream",
     "text": [
      "Saved model parameters at mnist_fc_parameters.json\n"
     ]
    }
   ],
   "source": [
    "base_scaling_factor = 10**6\n",
    "\n",
    "def get_scaling_factor(layer_idx):\n",
    "    scaling_factors = {\n",
    "        \"weight\": base_scaling_factor,\n",
    "        \"bias\": base_scaling_factor ** (layer_idx + 1)\n",
    "    }\n",
    "    return scaling_factors\n",
    "\n",
    "model_data = {}\n",
    "\n",
    "for param in net.get_all_learnable_params():\n",
    "    model_data[param[0]] = param[1].detach().numpy().flatten()\n",
    "\n",
    "model_json = {}\n",
    "num_layers = len(model_data) // 2  # considering weight and bias for each layer\n",
    "\n",
    "for i in range(num_layers):\n",
    "    weight_key = f\"layers.{i}.weight\"\n",
    "    bias_key = f\"layers.{i}.bias\"\n",
    "    \n",
    "    scaling = get_scaling_factor(i + 1)\n",
    "        \n",
    "    model_json[f\"w{i+1}\"] = (model_data[weight_key] * scaling[\"weight\"]).round().astype(int).tolist()\n",
    "    model_json[f\"b{i+1}\"] = (model_data[bias_key] * scaling[\"bias\"]).round().astype(int).tolist()\n",
    "\n",
    "# Save to JSON\n",
    "with open(f\"{model_name}_parameters.json\", \"w\") as f:\n",
    "    json.dump(model_json, f, indent=4)\n",
    "\n",
    "print(f\"Saved model parameters at {model_name}_parameters.json\")"
   ]
  },
  {
   "cell_type": "markdown",
   "id": "b8b51e23",
   "metadata": {},
   "source": [
    "## 9. Save Test Samples\n",
    "\n",
    "We also save the test sample inputs and corresponding model predictions in a json file. They will serve as a benchmark, enabling us to test the correctness of our zk program. The samples are again scaled appropriately for use in zk programs."
   ]
  },
  {
   "cell_type": "code",
   "execution_count": 9,
   "id": "1ea4ad86",
   "metadata": {},
   "outputs": [
    {
     "name": "stdout",
     "output_type": "stream",
     "text": [
      "Saved test samples at mnist_fc_samples.json\n"
     ]
    }
   ],
   "source": [
    "n_samples = 100\n",
    "\n",
    "samples_json = {}\n",
    "\n",
    "for (i, sample) in enumerate(zip(X_test[:n_samples], y_pred[:n_samples])):\n",
    "    samples_json[f\"input{i+1}\"] = (sample[0]*(base_scaling_factor)).round().astype(int).tolist()\n",
    "    samples_json[f\"output{i+1}\"] = sample[1].tolist()\n",
    "    \n",
    "# Save to JSON\n",
    "with open(f\"{model_name}_samples.json\", \"w\") as f:\n",
    "    json.dump(samples_json, f, indent=4)\n",
    "\n",
    "print(f\"Saved test samples at {model_name}_samples.json\")"
   ]
  },
  {
   "cell_type": "code",
   "execution_count": null,
   "id": "6493ce06",
   "metadata": {},
   "outputs": [],
   "source": []
  }
 ],
 "metadata": {
  "kernelspec": {
   "display_name": "Python 3 (ipykernel)",
   "language": "python",
   "name": "python3"
  },
  "language_info": {
   "codemirror_mode": {
    "name": "ipython",
    "version": 3
   },
   "file_extension": ".py",
   "mimetype": "text/x-python",
   "name": "python",
   "nbconvert_exporter": "python",
   "pygments_lexer": "ipython3",
   "version": "3.10.12"
  }
 },
 "nbformat": 4,
 "nbformat_minor": 5
}
