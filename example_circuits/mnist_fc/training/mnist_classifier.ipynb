{
 "cells": [
  {
   "cell_type": "markdown",
   "id": "91c4758c",
   "metadata": {},
   "source": [
    "# Multi-Class Classification with Neural Networks\n",
    "\n",
    "In this notebook, we will look at the multi-class classification problem using a simple feedforward neural network. We will use the MNIST dataset consisting of handwritten digit images, and leverage PyTorch and Skorch for defining and training our classification model. We will save the weights of the trained model in a json file which will be used in our zk program. We will also save some samples and their corresponding label predictions from our trained model in order to verify the correctness of our zk program."
   ]
  },
  {
   "cell_type": "markdown",
   "id": "9b8fb223",
   "metadata": {},
   "source": [
    "## 1. Importing Necessary Libraries\n",
    "\n",
    "Here, we import the libraries and packages necessary for data generation, manipulation, visualization, neural network modeling and training, and saving the model weights and test samples."
   ]
  },
  {
   "cell_type": "code",
   "execution_count": 25,
   "id": "364c3303",
   "metadata": {},
   "outputs": [],
   "source": [
    "import numpy as np\n",
    "import math\n",
    "import matplotlib.pyplot as plt\n",
    "\n",
    "from sklearn.datasets import fetch_openml\n",
    "from sklearn.model_selection import train_test_split\n",
    "\n",
    "import torch\n",
    "from torch import nn\n",
    "import torch.nn.functional as F\n",
    "\n",
    "from skorch import NeuralNetClassifier\n",
    "\n",
    "import json"
   ]
  },
  {
   "cell_type": "markdown",
   "id": "0c485008",
   "metadata": {},
   "source": [
    "## 2. Setting Random Seeds\n",
    "\n",
    "To ensure reproducibility and get consistent results, we set random seeds for all potential sources of randomness."
   ]
  },
  {
   "cell_type": "code",
   "execution_count": 2,
   "id": "364d51c2",
   "metadata": {},
   "outputs": [],
   "source": [
    "np.random.seed(42)\n",
    "\n",
    "torch.manual_seed(0)\n",
    "torch.cuda.manual_seed(0)"
   ]
  },
  {
   "cell_type": "markdown",
   "id": "e7e9ba29",
   "metadata": {},
   "source": [
    "## 3. Data Downloading and Preparation\n",
    "\n",
    "For our classification task, we will download the MNIST dataset (https://en.wikipedia.org/wiki/MNIST_database). The dataset has 10 classes, corresponding to the digits 0-9. We prepare the data for our training pipeline."
   ]
  },
  {
   "cell_type": "code",
   "execution_count": 28,
   "id": "5053da8d",
   "metadata": {},
   "outputs": [],
   "source": [
    "model_name = \"mnist_fc\"\n",
    "\n",
    "# Download the dataset\n",
    "mnist = fetch_openml('mnist_784', as_frame=False, cache=False, parser='auto')\n",
    "\n",
    "# Prepare the data\n",
    "X, y = mnist.data.astype(np.float32), mnist.target.astype(np.int64)\n",
    "X /= 255.0\n",
    "\n",
    "X_train, X_test, y_train, y_test = train_test_split(X, y, test_size=0.2, random_state=42)"
   ]
  },
  {
   "cell_type": "markdown",
   "id": "5514c0bd",
   "metadata": {},
   "source": [
    "## 4. Data Visualization\n",
    "\n",
    "We visualize a few samples from the dataset."
   ]
  },
  {
   "cell_type": "code",
   "execution_count": 39,
   "id": "1371b61d",
   "metadata": {},
   "outputs": [
    {
     "data": {
      "image/png": "[encoded data removed]",
      "text/plain": [
       "<Figure size 1200x200 with 8 Axes>"
      ]
     },
     "metadata": {},
     "output_type": "display_data"
    }
   ],
   "source": [
    "# Visualize the dataset\n",
    "def plot_example(X, y, n_samples):\n",
    "    n_cols = 8\n",
    "    n_rows = math.ceil(n_samples / n_cols)\n",
    "    plt.figure(figsize=(1.5*n_cols, 2*n_rows))\n",
    "\n",
    "    for i, (img, y) in enumerate(zip(X[:n_samples].reshape(n_samples, 28, 28), y[:n_samples])):\n",
    "        plt.subplot(n_rows, n_cols, i+1)\n",
    "        plt.imshow(img, cmap='gray')\n",
    "        plt.axis('off')\n",
    "        plt.title(y, fontsize=16)\n",
    "    plt.tight_layout()\n",
    "    plt.savefig(f\"{model_name}_visualization.png\", format='png', dpi=300, bbox_inches='tight')\n",
    "    plt.show()\n",
    "        \n",
    "plot_example(X_train, y_train, n_samples=8)"
   ]
  },
  {
   "cell_type": "code",
   "execution_count": null,
   "id": "7ad5710e",
   "metadata": {},
   "outputs": [],
   "source": [
    "class ClassifierModule(nn.Module):\n",
    "    def __init__(\n",
    "            self,\n",
    "            input_dim=input_dim,\n",
    "            hidden_dim=hidden_dim,\n",
    "            output_dim=output_dim,\n",
    "            nonlin=F.relu,\n",
    "            dropout=0.5,\n",
    "    ):\n",
    "        super(ClassifierModule, self).__init__()\n",
    "        \n",
    "        self.hidden_layer = nn.Linear(input_dim, hidden_dim)\n",
    "        self.nonlin = nonlin\n",
    "        self.dropout = nn.Dropout(dropout)\n",
    "        self.output_layer = nn.Linear(hidden_dim, output_dim)\n",
    "\n",
    "    def forward(self, X, **kwargs):\n",
    "        hid = self.hidden_layer(X)\n",
    "        hid_relu = self.nonlin(hid)\n",
    "        hid_relu_drop = self.dropout(hid_relu)\n",
    "        out = self.output_layer(hid_relu_drop)\n",
    "        probs = F.softmax(out, dim=-1)\n",
    "        return probs, out, hid_relu, hid"
   ]
  },
  {
   "cell_type": "code",
   "execution_count": null,
   "id": "2b06de68",
   "metadata": {},
   "outputs": [],
   "source": [
    "from skorch import NeuralNetClassifier"
   ]
  },
  {
   "cell_type": "code",
   "execution_count": null,
   "id": "db654ebf",
   "metadata": {},
   "outputs": [],
   "source": [
    "class ClassifierNet(NeuralNetClassifier):\n",
    "    def get_loss(self, y_pred, y_true, *args, **kwargs):\n",
    "        probs, output, hid_relu, hid = y_pred\n",
    "        return super().get_loss(probs, y_true, *args, **kwargs)"
   ]
  },
  {
   "cell_type": "code",
   "execution_count": null,
   "id": "031988ee",
   "metadata": {},
   "outputs": [],
   "source": [
    "net = ClassifierNet(\n",
    "    ClassifierModule,\n",
    "    max_epochs=50,\n",
    "    lr=0.1)"
   ]
  },
  {
   "cell_type": "code",
   "execution_count": null,
   "id": "01fe8a10",
   "metadata": {},
   "outputs": [],
   "source": [
    "net.fit(X_train, y_train)"
   ]
  },
  {
   "cell_type": "code",
   "execution_count": null,
   "id": "6b8a5327",
   "metadata": {},
   "outputs": [],
   "source": [
    "# Making prediction for first 5 data points of X\n",
    "y_pred = net.predict(X_test[:5])\n",
    "y_pred"
   ]
  },
  {
   "cell_type": "code",
   "execution_count": null,
   "id": "f85889a0",
   "metadata": {},
   "outputs": [],
   "source": [
    "y_out = net.forward(X_test[:5])\n",
    "y_pred = y_out[1].numpy().argmax(1)\n",
    "y_pred"
   ]
  },
  {
   "cell_type": "code",
   "execution_count": null,
   "id": "30a38f32",
   "metadata": {},
   "outputs": [],
   "source": [
    "# Checking probarbility of each class for first 5 data points of X\n",
    "y_proba = net.predict_proba(X[:5])\n",
    "y_proba"
   ]
  },
  {
   "cell_type": "code",
   "execution_count": null,
   "id": "2f0cf8ce",
   "metadata": {},
   "outputs": [],
   "source": [
    "y_pred = net.predict(X_test)\n",
    "sum(y_test == y_pred)/len(y_test)"
   ]
  },
  {
   "cell_type": "code",
   "execution_count": null,
   "id": "735718a5",
   "metadata": {},
   "outputs": [],
   "source": [
    "dict(net.get_all_learnable_params())['hidden_layer.weight'].detach().numpy()"
   ]
  },
  {
   "cell_type": "code",
   "execution_count": null,
   "id": "9287e392",
   "metadata": {},
   "outputs": [],
   "source": [
    "model_data = {}\n",
    "\n",
    "for param in net.get_all_learnable_params():\n",
    "    model_data[param[0]] = param[1].detach().numpy().flatten()\n",
    "    \n",
    "model_data"
   ]
  },
  {
   "cell_type": "code",
   "execution_count": null,
   "id": "9afdb10a",
   "metadata": {},
   "outputs": [],
   "source": [
    "idx = 5"
   ]
  },
  {
   "cell_type": "code",
   "execution_count": null,
   "id": "c9e540b6",
   "metadata": {},
   "outputs": [],
   "source": [
    "(X_test[idx]*(10**6)).round().astype(int)"
   ]
  },
  {
   "cell_type": "code",
   "execution_count": null,
   "id": "0bb12940",
   "metadata": {},
   "outputs": [],
   "source": [
    "y = net.forward(X_test[idx])\n",
    "y"
   ]
  },
  {
   "cell_type": "code",
   "execution_count": null,
   "id": "93126503",
   "metadata": {},
   "outputs": [],
   "source": [
    "x = X_test[:5]\n",
    "y = net.forward(x)\n",
    "y"
   ]
  },
  {
   "cell_type": "code",
   "execution_count": null,
   "id": "c4ea94ec",
   "metadata": {},
   "outputs": [],
   "source": [
    "net.forward(x)"
   ]
  },
  {
   "cell_type": "code",
   "execution_count": null,
   "id": "6efa733f",
   "metadata": {},
   "outputs": [],
   "source": [
    "in_json = {\n",
    "    \"input\": (x[0]*(10**6)).round().astype(int).tolist(),\n",
    "    \"hid_weights\": (model_data['hidden_layer.weight']*(10**6)).round().astype(int).tolist(),\n",
    "    \"hid_bias\": (model_data['hidden_layer.bias']*(10**12)).round().astype(int).tolist(),\n",
    "    \"out_weights\":(model_data['output_layer.weight']*(10**6)).round().astype(int).tolist(),\n",
    "    \"out_bias\": (model_data['output_layer.bias']*(10**18)).round().astype(int).tolist() # can also change to zero because we are doing argmax instead of softmax\n",
    "}"
   ]
  },
  {
   "cell_type": "code",
   "execution_count": null,
   "id": "d9336d94",
   "metadata": {},
   "outputs": [],
   "source": [
    "in_json"
   ]
  },
  {
   "cell_type": "code",
   "execution_count": null,
   "id": "e2278ab2",
   "metadata": {},
   "outputs": [],
   "source": [
    "model_json = {\n",
    "    \"l1_weights\": (model_data['hidden_layer.weight']*(10**6)).round().astype(int).tolist(),\n",
    "    \"l1_biases\": (model_data['hidden_layer.bias']*(10**12)).round().astype(int).tolist(),\n",
    "    \"lo_weights\":(model_data['output_layer.weight']*(10**6)).round().astype(int).tolist(),\n",
    "    \"lo_biases\": (model_data['output_layer.bias']*(10**18)).round().astype(int).tolist() # can also change to zero because we are doing argmax instead of softmax\n",
    "}"
   ]
  },
  {
   "cell_type": "code",
   "execution_count": null,
   "id": "16f0e0c0",
   "metadata": {},
   "outputs": [],
   "source": [
    "import json\n",
    "with open(\"mnist_fc.json\", \"w\") as f:\n",
    "    json.dump(model_json, f)"
   ]
  },
  {
   "cell_type": "code",
   "execution_count": null,
   "id": "ab9900fd",
   "metadata": {},
   "outputs": [],
   "source": [
    "(y[1][0].numpy()*(10**18))"
   ]
  },
  {
   "cell_type": "code",
   "execution_count": null,
   "id": "b445be26",
   "metadata": {},
   "outputs": [],
   "source": [
    "out_json = {\n",
    "    \"scale\": 10**-18,\n",
    "    \"out\": (y[1][0].detach().numpy()*(10**18)).round().astype(int).tolist(),\n",
    "    \"label\": int(y[1].argmax())\n",
    "}\n",
    "out_json"
   ]
  },
  {
   "cell_type": "code",
   "execution_count": null,
   "id": "1b05bea4",
   "metadata": {},
   "outputs": [],
   "source": [
    "import json\n",
    "with open(\"mnist_fc_input.json\", \"w\") as f:\n",
    "    json.dump(in_json, f)\n",
    "with open(\"mnist_fc_output.json\", \"w\") as f:\n",
    "    json.dump(out_json, f)"
   ]
  },
  {
   "cell_type": "code",
   "execution_count": null,
   "id": "548fc104",
   "metadata": {},
   "outputs": [],
   "source": [
    "with open('mnist_fc_test.txt', 'w') as f:\n",
    "    for key in in_json:\n",
    "        f.write(key + \" = [\")\n",
    "        for idx, value in enumerate(in_json[key]):\n",
    "            if(idx!=0):\n",
    "                f.write(', ')\n",
    "            f.write('\"' + str(value) + '\"')\n",
    "        f.write(']\\n')\n"
   ]
  },
  {
   "cell_type": "code",
   "execution_count": null,
   "id": "9166f799",
   "metadata": {},
   "outputs": [],
   "source": [
    "(y[2].numpy()*10**12).round().astype(int).tolist()"
   ]
  },
  {
   "cell_type": "code",
   "execution_count": null,
   "id": "7d3dcbc8",
   "metadata": {},
   "outputs": [],
   "source": [
    "(X_test*(10**6)).round().astype(int)"
   ]
  },
  {
   "cell_type": "code",
   "execution_count": null,
   "id": "3e4043c0",
   "metadata": {},
   "outputs": [],
   "source": [
    "predictions = net.predict(X_test)"
   ]
  },
  {
   "cell_type": "code",
   "execution_count": null,
   "id": "ceca185e",
   "metadata": {},
   "outputs": [],
   "source": [
    "n_samples = 100\n",
    "model_name = 'mnist_fc'\n",
    "\n",
    "with open(f\"tests_{model_name}.txt\", 'w') as f:\n",
    "    for i in range(len(X_test[:n_samples])):\n",
    "        f.write('#[test]\\n')\n",
    "        f.write(f\"fn test_{model_name}_{i+1:03d}\" + \"() {\\n\")\n",
    "        f.write(\"  let sample = [\")\n",
    "        for idx, value in enumerate(X_test[i]):\n",
    "            if(idx!=0):\n",
    "                f.write(', ')\n",
    "            f.write(str((value*(10**6)).round().astype(int)))\n",
    "        f.write('];\\n')\n",
    "        f.write(f\"  assert({model_name}(sample) == \" + str(predictions[i]) + \");\\n\")\n",
    "        f.write('}\\n\\n')"
   ]
  },
  {
   "cell_type": "code",
   "execution_count": null,
   "id": "d0c3b4e4",
   "metadata": {},
   "outputs": [],
   "source": [
    "n_samples = 1\n",
    "model_name = 'mnist_fc'\n",
    "\n",
    "file_name = f\"run_{model_name}.sh\"\n",
    "\n",
    "file_header = \"\"\"#!/bin/bash\n",
    "# First check that Leo is installed.\n",
    "if ! command -v leo &> /dev/null\n",
    "then\n",
    "    echo \"leo is not installed.\"\n",
    "    exit\n",
    "fi\\n\"\"\"\n",
    "\n",
    "\n",
    "with open(file_name, 'w') as f:\n",
    "    f.write(file_header)\n",
    "    sample_dim = len(X_test[0])\n",
    "    for i, sample in enumerate(X_test[:n_samples]):\n",
    "        input_string = ', '.join([f'in{j+1}: {(sample[j]*(10**6)).round().astype(int)}i128' for j in range(sample_dim)])\n",
    "        \n",
    "        expected_value = f\"{predictions[i]}u8\"\n",
    "\n",
    "        command = f'''\n",
    "leo run -q compute \"{{ {input_string} }}\" | awk -F\"• \" '/u8/ {{print \"Actual: \"$2}}'\n",
    "echo \"Expected: {expected_value}\"\n",
    "        '''\n",
    "\n",
    "        f.write(command)\n",
    "\n",
    "    \n",
    "# After writing, if you want to make the script executable, you can do it with os module.\n",
    "import os\n",
    "os.chmod(file_name, 0o755)  # Makes the script executable"
   ]
  },
  {
   "cell_type": "code",
   "execution_count": null,
   "id": "6493ce06",
   "metadata": {},
   "outputs": [],
   "source": []
  }
 ],
 "metadata": {
  "kernelspec": {
   "display_name": "Python 3 (ipykernel)",
   "language": "python",
   "name": "python3"
  },
  "language_info": {
   "codemirror_mode": {
    "name": "ipython",
    "version": 3
   },
   "file_extension": ".py",
   "mimetype": "text/x-python",
   "name": "python",
   "nbconvert_exporter": "python",
   "pygments_lexer": "ipython3",
   "version": "3.10.12"
  }
 },
 "nbformat": 4,
 "nbformat_minor": 5
}
